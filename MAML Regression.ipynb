{
 "cells": [
  {
   "cell_type": "markdown",
   "metadata": {},
   "source": [
    "# MAML Regression"
   ]
  },
  {
   "cell_type": "code",
   "execution_count": 1,
   "metadata": {},
   "outputs": [],
   "source": [
    "import numpy as np\n",
    "import matplotlib.pyplot as plt\n",
    "%matplotlib inline\n",
    "import tensorflow as tf"
   ]
  },
  {
   "cell_type": "code",
   "execution_count": null,
   "metadata": {},
   "outputs": [],
   "source": [
    "sess = tf.Session()"
   ]
  },
  {
   "cell_type": "markdown",
   "metadata": {},
   "source": [
    "## Generate Sine Waves"
   ]
  },
  {
   "cell_type": "code",
   "execution_count": null,
   "metadata": {},
   "outputs": [],
   "source": [
    "amp = np.random.uniform(0.1, 5.0, size=10)\n",
    "phase = np.random.uniform(0, np.pi, size=10)\n",
    "\n",
    "for i in range(10):\n",
    "    # generate the data\n",
    "    inputs = np.linspace(-5, 5, 10000)[:, None]\n",
    "    outputs = amp[i] * np.sin(inputs + phase[i])\n",
    "    plt.scatter(inputs[:, 0], outputs[:, 0], s=0.1, color='k', marker='o')\n",
    "plt.show()"
   ]
  },
  {
   "cell_type": "markdown",
   "metadata": {},
   "source": [
    "## MAML Regression Model"
   ]
  },
  {
   "cell_type": "code",
   "execution_count": null,
   "metadata": {},
   "outputs": [],
   "source": [
    "def create_model(in_ph, learning_rate=0.01, grads=None):\n",
    "    with tf.variable_scope('fc1', reuse=tf.AUTO_REUSE) as scope:\n",
    "        tf.contrib.layers.fully_connected(in_ph, 40)  # Create weights and biases\n",
    "        w = tf.get_variable('fully_connected/weights')\n",
    "        b = tf.get_variable('fully_connected/biases')\n",
    "        w = w - (tf.zeros_like(w)) if grads is None else (learning_rate * grads[w.name])\n",
    "        b = b - (tf.zeros_like(b)) if grads is None else (learning_rate * grads[b.name])\n",
    "        network = tf.nn.relu(tf.nn.xw_plus_b(in_ph, w, b))\n",
    "\n",
    "    with tf.variable_scope('fc2', reuse=tf.AUTO_REUSE):\n",
    "        tf.contrib.layers.fully_connected(network, 40)\n",
    "        w = tf.get_variable('fully_connected/weights')\n",
    "        b = tf.get_variable('fully_connected/biases')\n",
    "        w = w - (tf.zeros_like(w)) if grads is None else (learning_rate * grads[w.name])\n",
    "        b = b - (tf.zeros_like(b)) if grads is None else (learning_rate * grads[b.name])\n",
    "        network_2 = tf.nn.relu(tf.nn.xw_plus_b(network, w, b))\n",
    "\n",
    "    with tf.variable_scope('out', reuse=tf.AUTO_REUSE):\n",
    "        tf.contrib.layers.fully_connected(network_2, 1)\n",
    "        w = tf.get_variable('fully_connected/weights')\n",
    "        b = tf.get_variable('fully_connected/biases')\n",
    "        w = w - (tf.zeros_like(w)) if grads is None else (learning_rate * grads[w.name])\n",
    "        b = b - (tf.zeros_like(b)) if grads is None else (learning_rate * grads[b.name])\n",
    "        out_pred = tf.nn.xw_plus_b(network_2, w, b)\n",
    "    return out_pred"
   ]
  },
  {
   "cell_type": "code",
   "execution_count": null,
   "metadata": {},
   "outputs": [],
   "source": [
    "class MAMLTask:\n",
    "    def __init__(self):\n",
    "        self.train_in_ph = tf.placeholder(dtype=tf.float32, name='task_train_input', shape=[None, 1])\n",
    "        self.train_targets = tf.placeholder(dtype=tf.float32, name='task_train_targets', shape=[None, 1])\n",
    "        self.test_in_ph = tf.placeholder(dtype=tf.float32, name='task_test_input', shape=[None, 1])\n",
    "        self.test_targets = tf.placeholder(dtype=tf.float32, name='task_test_targets', shape=[None, 1])\n",
    "\n",
    "        # Take gradient w.r.t overall parameters. Corresponds with lines 6 & 7 of Algorithm 2\n",
    "        self.out_pred = create_model(self.train_in_ph)\n",
    "        self.loss = tf.losses.mean_squared_error(self.train_targets, self.out_pred)\n",
    "        weights = tf.get_collection(tf.GraphKeys.TRAINABLE_VARIABLES)\n",
    "        grads = {var.name: grad for grad, var in zip(tf.gradients(self.loss, weights), weights)}\n",
    "\n",
    "        # Use gradients for update in line 10\n",
    "        self.task_out_pred = create_model(self.test_in_ph, grads=grads)\n",
    "        self.task_loss = tf.losses.mean_squared_error(self.test_targets, self.task_out_pred)\n"
   ]
  },
  {
   "cell_type": "code",
   "execution_count": null,
   "metadata": {},
   "outputs": [],
   "source": [
    "class MAMLNetworkBuilder():\n",
    "    def __init__(self, num_tasks):\n",
    "        # Create forward pass for main parameters\n",
    "        self.in_ph = tf.placeholder(dtype=tf.float32, shape=[None, 1])\n",
    "        self.out_pred = create_model(self.in_ph)\n",
    "\n",
    "        # Create regression loss for fine tuning\n",
    "        self.targets = tf.placeholder(dtype=tf.float32, name='tune_targets', shape=[None, 1])\n",
    "        self.loss = tf.losses.mean_squared_error(self.targets, self.out_pred)\n",
    "        self.adam = tf.train.AdamOptimizer()\n",
    "        self.opt = self.adam.minimize(self.loss)\n",
    "\n",
    "        # Generate individual tasks and combined loss (line 10 of Algorithm 2)\n",
    "        self.tasks = [MAMLTask() for i in range(num_tasks)]\n",
    "        self.task_loss = tf.reduce_sum([t.task_loss for t in self.tasks])\n",
    "        self.task_opt = self.adam.minimize(self.task_loss)\n"
   ]
  },
  {
   "cell_type": "code",
   "execution_count": null,
   "metadata": {},
   "outputs": [],
   "source": [
    "meta_iters = 75000\n",
    "K = 10\n",
    "meta_batch_size = 25\n",
    "mnb = MAMLNetworkBuilder(meta_batch_size)"
   ]
  },
  {
   "cell_type": "code",
   "execution_count": null,
   "metadata": {},
   "outputs": [],
   "source": [
    "sess = tf.Session()\n",
    "sess.run(tf.global_variables_initializer())"
   ]
  },
  {
   "cell_type": "code",
   "execution_count": null,
   "metadata": {
    "scrolled": true
   },
   "outputs": [],
   "source": [
    "outputs = []\n",
    "for m in range(meta_iters):\n",
    "    # Sample batch of tasks\n",
    "    amp = np.random.uniform(0.1, 5.0, size=meta_batch_size)\n",
    "    phase = np.random.uniform(0, np.pi, size=meta_batch_size)\n",
    "    assert len(amp) == meta_batch_size\n",
    "\n",
    "    # Get train and test data for each task\n",
    "    test_data = []\n",
    "    train_data = []\n",
    "    for t, (a, p) in enumerate(zip(amp, phase)):\n",
    "        # Sample K datapoints from the task (train/test)\n",
    "        x = np.random.uniform(-5.0, 5.0, size=K * 2)\n",
    "        truth = a * np.sin(x + p)\n",
    "        assert len(truth) == K * 2\n",
    "        \n",
    "        train_data.append({'input':np.matrix(x[:K]).transpose(),\n",
    "                           'truth':np.matrix(truth[:K]).transpose()})\n",
    "        test_data.append({'input':np.matrix(x[K:]).transpose(),\n",
    "                           'truth':np.matrix(truth[K:]).transpose()})\n",
    "    \n",
    "    assert len(train_data) == meta_batch_size\n",
    "    assert len(train_data[0]) == 2\n",
    "\n",
    "        \n",
    "    # Perform update of parameters\n",
    "    feed_dict = {}\n",
    "    task_train_losses = []\n",
    "    task_test_losses = []\n",
    "    \n",
    "    for i,t in enumerate(mnb.tasks):\n",
    "        feed_dict[t.train_in_ph] = train_data[i]['input']\n",
    "        feed_dict[t.train_targets] = train_data[i]['truth']\n",
    "\n",
    "        feed_dict[t.test_in_ph] = test_data[i]['input']\n",
    "        feed_dict[t.test_targets] = test_data[i]['truth']\n",
    "        \n",
    "        task_train_losses.append(t.loss)\n",
    "        task_test_losses.append(t.task_loss)\n",
    "    \n",
    "    output =  sess.run([mnb.task_opt, mnb.task_loss] + task_train_losses + task_test_losses,\n",
    "                       feed_dict=feed_dict)\n",
    "    \n",
    "    outputs.append(output)\n",
    "    if m % 1000 == 0:\n",
    "        print(m)\n",
    "        print(f'Overall loss:{output[1]}\\n'\n",
    "             f'Task Train loss:{output[2]}\\n'\n",
    "             f'Task Test loss:{output[3]}')"
   ]
  },
  {
   "cell_type": "markdown",
   "metadata": {},
   "source": [
    "## Plot loss"
   ]
  },
  {
   "cell_type": "code",
   "execution_count": null,
   "metadata": {},
   "outputs": [],
   "source": [
    "overall_loss_data = [o[1] for o in outputs]"
   ]
  },
  {
   "cell_type": "code",
   "execution_count": null,
   "metadata": {},
   "outputs": [],
   "source": [
    "plt.plot(overall_loss_data)"
   ]
  },
  {
   "cell_type": "markdown",
   "metadata": {},
   "source": [
    "## Test on sine waves"
   ]
  },
  {
   "cell_type": "markdown",
   "metadata": {},
   "source": [
    "### Copy the network first to avoid overwriting"
   ]
  },
  {
   "cell_type": "code",
   "execution_count": null,
   "metadata": {},
   "outputs": [],
   "source": [
    "with tf.variable_scope('test'):\n",
    "    mnb_test = MAMLNetworkBuilder(25)    "
   ]
  },
  {
   "cell_type": "code",
   "execution_count": null,
   "metadata": {},
   "outputs": [],
   "source": [
    "test_weights = tf.get_collection(tf.GraphKeys.TRAINABLE_VARIABLES, scope='test')\n",
    "\n",
    "test_weights"
   ]
  },
  {
   "cell_type": "code",
   "execution_count": null,
   "metadata": {},
   "outputs": [],
   "source": [
    "weights = tf.get_collection(tf.GraphKeys.TRAINABLE_VARIABLES)\n",
    "test_weights = tf.get_collection(tf.GraphKeys.TRAINABLE_VARIABLES, scope='test')\n",
    "test_extras = tf.get_collection(tf.GraphKeys.GLOBAL_VARIABLES, scope='test')\n",
    "copy_op = [old.assign(new) for (new, old) in\n",
    "                                      zip(weights,\n",
    "                                          test_weights)]"
   ]
  },
  {
   "cell_type": "code",
   "execution_count": null,
   "metadata": {},
   "outputs": [],
   "source": [
    "sess.run(copy_op)\n",
    "sess.run(tf.variables_initializer(test_extras))"
   ]
  },
  {
   "cell_type": "code",
   "execution_count": null,
   "metadata": {},
   "outputs": [],
   "source": [
    "step_list = [0, 1, 10, 100]\n",
    "color = ['g', 'b', 'orange', 'red']\n",
    "# figs, axis = plt.subplots(len(step_list),figsize=(10,len(step_list)*5))\n",
    "figs, axis = plt.subplots(1,figsize=(10,10))\n",
    "\n",
    "# Sample one task\n",
    "amp = np.random.uniform(0.1, 5.0, size=1)\n",
    "phase = np.random.uniform(0, np.pi, size=1)\n",
    "inputs = np.linspace(-5, 5, 10000)[:, None]\n",
    "outputs = amp * np.sin(inputs + phase)\n",
    "    \n",
    "# choose K random task training points\n",
    "x = np.random.uniform(-5.0, 5.0, size=5)\n",
    "truth = amp * np.sin(x + phase)\n",
    "\n",
    "# take gradient steps and report results\n",
    "for i, steps in enumerate(step_list):\n",
    "    \n",
    "    # plot truth and training points \n",
    "    axis.scatter(inputs[:, 0], outputs[:, 0],\n",
    "                    s=0.1, color='k', marker='o')\n",
    "    axis.scatter(x, truth, marker='^', color='red')\n",
    "    \n",
    "    # gradient steps\n",
    "    for s in range(steps):\n",
    "        _, loss = sess.run([mnb_test.opt, mnb_test.loss],\n",
    "                            feed_dict={mnb_test.in_ph:np.matrix(x).transpose(),\n",
    "                                       mnb_test.targets:np.matrix(truth).transpose()})\n",
    "    # plot prediction\n",
    "    pred = sess.run(mnb_test.out_pred, feed_dict={mnb_test.in_ph:inputs})\n",
    "    axis.scatter(inputs[:, 0], pred,\n",
    "                s=0.1, color=color[i], marker='x', label=f'{step_list[i]} Grad Steps')\n",
    "\n",
    "    sess.run(copy_op)\n",
    "    sess.run(tf.variables_initializer(test_extras))\n",
    "axis.legend(fontsize=20, markerscale=20)\n",
    "    # Reset network weights for next trial\n",
    "_ = sess.run(copy_op)\n",
    "sess.run(tf.variables_initializer(test_extras))"
   ]
  },
  {
   "cell_type": "code",
   "execution_count": null,
   "metadata": {},
   "outputs": [],
   "source": []
  }
 ],
 "metadata": {
  "kernelspec": {
   "display_name": "Python 3",
   "language": "python",
   "name": "python3"
  },
  "language_info": {
   "codemirror_mode": {
    "name": "ipython",
    "version": 3
   },
   "file_extension": ".py",
   "mimetype": "text/x-python",
   "name": "python",
   "nbconvert_exporter": "python",
   "pygments_lexer": "ipython3",
   "version": "3.6.8"
  }
 },
 "nbformat": 4,
 "nbformat_minor": 2
}
